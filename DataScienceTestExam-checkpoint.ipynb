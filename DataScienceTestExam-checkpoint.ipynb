{
 "cells": [
  {
   "cell_type": "code",
   "execution_count": 1,
   "id": "90071e81-c115-409a-a362-4374a0052116",
   "metadata": {},
   "outputs": [
    {
     "name": "stdout",
     "output_type": "stream",
     "text": [
      "hello\n"
     ]
    }
   ],
   "source": [
    "# 1.Download the data from the above link. How many \".csv\" files are available in the dataset?\n",
    "ans:4"
   ]
  },
  {
   "cell_type": "code",
   "execution_count": 7,
   "id": "10344ee9-01e2-4e77-9c32-48d9e200ca4f",
   "metadata": {},
   "outputs": [
    {
     "data": {
      "text/plain": [
       "(9742, 3)"
      ]
     },
     "execution_count": 7,
     "metadata": {},
     "output_type": "execute_result"
    }
   ],
   "source": [
    "# 2.What is the shape of \"movies.csv\"?\n",
    "import pandas as pd\n",
    "\n",
    "data1 = pd.read_csv(\"movies.csv\")\n",
    "data1.shape"
   ]
  },
  {
   "cell_type": "code",
   "execution_count": 8,
   "id": "89099c89-5d75-45a2-8338-8f6582aa9a7d",
   "metadata": {},
   "outputs": [
    {
     "data": {
      "text/plain": [
       "(100836, 4)"
      ]
     },
     "execution_count": 8,
     "metadata": {},
     "output_type": "execute_result"
    }
   ],
   "source": [
    "# 3.What is the shape of \"ratings.csv\"?\n",
    "\n",
    "data2 = pd.read_csv(\"ratings.csv\")\n",
    "data2.shape"
   ]
  },
  {
   "cell_type": "code",
   "execution_count": 10,
   "id": "feb48271-f7ec-41e1-a058-a403a687da74",
   "metadata": {},
   "outputs": [
    {
     "data": {
      "text/plain": [
       "array([  1,   2,   3,   4,   5,   6,   7,   8,   9,  10,  11,  12,  13,\n",
       "        14,  15,  16,  17,  18,  19,  20,  21,  22,  23,  24,  25,  26,\n",
       "        27,  28,  29,  30,  31,  32,  33,  34,  35,  36,  37,  38,  39,\n",
       "        40,  41,  42,  43,  44,  45,  46,  47,  48,  49,  50,  51,  52,\n",
       "        53,  54,  55,  56,  57,  58,  59,  60,  61,  62,  63,  64,  65,\n",
       "        66,  67,  68,  69,  70,  71,  72,  73,  74,  75,  76,  77,  78,\n",
       "        79,  80,  81,  82,  83,  84,  85,  86,  87,  88,  89,  90,  91,\n",
       "        92,  93,  94,  95,  96,  97,  98,  99, 100, 101, 102, 103, 104,\n",
       "       105, 106, 107, 108, 109, 110, 111, 112, 113, 114, 115, 116, 117,\n",
       "       118, 119, 120, 121, 122, 123, 124, 125, 126, 127, 128, 129, 130,\n",
       "       131, 132, 133, 134, 135, 136, 137, 138, 139, 140, 141, 142, 143,\n",
       "       144, 145, 146, 147, 148, 149, 150, 151, 152, 153, 154, 155, 156,\n",
       "       157, 158, 159, 160, 161, 162, 163, 164, 165, 166, 167, 168, 169,\n",
       "       170, 171, 172, 173, 174, 175, 176, 177, 178, 179, 180, 181, 182,\n",
       "       183, 184, 185, 186, 187, 188, 189, 190, 191, 192, 193, 194, 195,\n",
       "       196, 197, 198, 199, 200, 201, 202, 203, 204, 205, 206, 207, 208,\n",
       "       209, 210, 211, 212, 213, 214, 215, 216, 217, 218, 219, 220, 221,\n",
       "       222, 223, 224, 225, 226, 227, 228, 229, 230, 231, 232, 233, 234,\n",
       "       235, 236, 237, 238, 239, 240, 241, 242, 243, 244, 245, 246, 247,\n",
       "       248, 249, 250, 251, 252, 253, 254, 255, 256, 257, 258, 259, 260,\n",
       "       261, 262, 263, 264, 265, 266, 267, 268, 269, 270, 271, 272, 273,\n",
       "       274, 275, 276, 277, 278, 279, 280, 281, 282, 283, 284, 285, 286,\n",
       "       287, 288, 289, 290, 291, 292, 293, 294, 295, 296, 297, 298, 299,\n",
       "       300, 301, 302, 303, 304, 305, 306, 307, 308, 309, 310, 311, 312,\n",
       "       313, 314, 315, 316, 317, 318, 319, 320, 321, 322, 323, 324, 325,\n",
       "       326, 327, 328, 329, 330, 331, 332, 333, 334, 335, 336, 337, 338,\n",
       "       339, 340, 341, 342, 343, 344, 345, 346, 347, 348, 349, 350, 351,\n",
       "       352, 353, 354, 355, 356, 357, 358, 359, 360, 361, 362, 363, 364,\n",
       "       365, 366, 367, 368, 369, 370, 371, 372, 373, 374, 375, 376, 377,\n",
       "       378, 379, 380, 381, 382, 383, 384, 385, 386, 387, 388, 389, 390,\n",
       "       391, 392, 393, 394, 395, 396, 397, 398, 399, 400, 401, 402, 403,\n",
       "       404, 405, 406, 407, 408, 409, 410, 411, 412, 413, 414, 415, 416,\n",
       "       417, 418, 419, 420, 421, 422, 423, 424, 425, 426, 427, 428, 429,\n",
       "       430, 431, 432, 433, 434, 435, 436, 437, 438, 439, 440, 441, 442,\n",
       "       443, 444, 445, 446, 447, 448, 449, 450, 451, 452, 453, 454, 455,\n",
       "       456, 457, 458, 459, 460, 461, 462, 463, 464, 465, 466, 467, 468,\n",
       "       469, 470, 471, 472, 473, 474, 475, 476, 477, 478, 479, 480, 481,\n",
       "       482, 483, 484, 485, 486, 487, 488, 489, 490, 491, 492, 493, 494,\n",
       "       495, 496, 497, 498, 499, 500, 501, 502, 503, 504, 505, 506, 507,\n",
       "       508, 509, 510, 511, 512, 513, 514, 515, 516, 517, 518, 519, 520,\n",
       "       521, 522, 523, 524, 525, 526, 527, 528, 529, 530, 531, 532, 533,\n",
       "       534, 535, 536, 537, 538, 539, 540, 541, 542, 543, 544, 545, 546,\n",
       "       547, 548, 549, 550, 551, 552, 553, 554, 555, 556, 557, 558, 559,\n",
       "       560, 561, 562, 563, 564, 565, 566, 567, 568, 569, 570, 571, 572,\n",
       "       573, 574, 575, 576, 577, 578, 579, 580, 581, 582, 583, 584, 585,\n",
       "       586, 587, 588, 589, 590, 591, 592, 593, 594, 595, 596, 597, 598,\n",
       "       599, 600, 601, 602, 603, 604, 605, 606, 607, 608, 609, 610],\n",
       "      dtype=int64)"
      ]
     },
     "execution_count": 10,
     "metadata": {},
     "output_type": "execute_result"
    }
   ],
   "source": [
    "# 4. How many unique \"userId\" are available in \"ratings.csv\"?\n",
    "data2[\"userId\"].unique()  # ans:610"
   ]
  },
  {
   "cell_type": "code",
   "execution_count": 11,
   "id": "83893dba-1b7f-4e22-a79d-d3690697373e",
   "metadata": {},
   "outputs": [
    {
     "name": "stdout",
     "output_type": "stream",
     "text": [
      "Movie with the maximum number of user ratings:\n",
      "Movie ID: 356\n",
      "Movie Name: Forrest Gump (1994)\n",
      "Number of Ratings: 329\n"
     ]
    }
   ],
   "source": [
    "# 5.Which movie has recieved maximum number of user ratings?\n",
    "\n",
    "import pandas as pd\n",
    "ratings_df = pd.read_csv('ratings.csv')\n",
    "movies_df = pd.read_csv('movies.csv')\n",
    "\n",
    "merged_df = pd.merge(ratings_df, movies_df, on='movieId')\n",
    "movie_ratings_count = merged_df.groupby(['movieId', 'title'])['userId'].count().reset_index()\n",
    "max_ratings_movie = movie_ratings_count.loc[movie_ratings_count['userId'].idxmax()]\n",
    "\n",
    "print(\"Movie with the maximum number of user ratings:\")\n",
    "print(\"Movie ID:\", max_ratings_movie['movieId'])\n",
    "print(\"Movie Name:\", max_ratings_movie['title'])\n",
    "print(\"Number of Ratings:\", max_ratings_movie['userId'])"
   ]
  },
  {
   "cell_type": "code",
   "execution_count": 14,
   "id": "db7aeccb-2603-4127-a098-0e13c50c99fb",
   "metadata": {},
   "outputs": [
    {
     "name": "stdout",
     "output_type": "stream",
     "text": [
      "User-submitted tags for Matrix, The (1999):\n",
      "['martial arts', 'sci-fi', 'alternate universe', 'philosophy', 'post apocalyptic']\n"
     ]
    }
   ],
   "source": [
    "# 6. Select all the correct tags submitted by users to \"Matrix, The (1999)\" movie?\n",
    "\n",
    "import pandas as pd\n",
    "\n",
    "# Load the tag CSV file into a pandas DataFrame\n",
    "tag_df = pd.read_csv('tags.csv')\n",
    "matrix_tags = tag_df[tag_df['movieId'] == 2571]  # Assuming 2571 is the movieId for \"Matrix, The (1999)\"\n",
    "\n",
    "if not matrix_tags.empty:\n",
    "    print(\"User-submitted tags for Matrix, The (1999):\")\n",
    "    print(matrix_tags['tag'].tolist())\n",
    "else:\n",
    "    print(\"No user-submitted tags found for Matrix, The (1999).\")\n"
   ]
  },
  {
   "cell_type": "code",
   "execution_count": 15,
   "id": "f71650da-69bc-47e2-8f2b-1d62522b58c0",
   "metadata": {},
   "outputs": [
    {
     "name": "stdout",
     "output_type": "stream",
     "text": [
      "The average user rating for 'Terminator 2: Judgment Day (1991)' is: 4.26\n"
     ]
    }
   ],
   "source": [
    "# 7. What is the average user rating for movie named \"Terminator 2: Judgment Day (1991)\"?\n",
    "\n",
    "import pandas as pd\n",
    "\n",
    "# Load the ratings CSV file into a pandas DataFrame\n",
    "ratings_df = pd.read_csv('ratings.csv')\n",
    "\n",
    "terminator2_ratings = ratings_df[ratings_df['movieId'] == 1221]  # Assuming 1221 is the movieId for \"Terminator 2: Judgment Day (1991)\"\n",
    "average_rating = terminator2_ratings['rating'].mean()\n",
    "\n",
    "# Display the result\n",
    "print(f\"The average user rating for 'Terminator 2: Judgment Day (1991)' is: {average_rating:.2f}\")\n"
   ]
  },
  {
   "cell_type": "code",
   "execution_count": 2,
   "id": "281ddd5e-4ef6-475f-95c9-c4e0520c8b93",
   "metadata": {},
   "outputs": [
    {
     "data": {
      "image/png": "[encoded data removed]",
      "text/plain": [
       "<Figure size 640x480 with 1 Axes>"
      ]
     },
     "metadata": {},
     "output_type": "display_data"
    },
    {
     "name": "stdout",
     "output_type": "stream",
     "text": [
      "The distribution does not fit the characteristics of normal, left-skewed, right-skewed, or uniform.\n"
     ]
    }
   ],
   "source": [
    "# 8. How does the data distribution of user ratings for \"Fight Club (1999)\" movie looks like?\n",
    "\n",
    "import pandas as pd\n",
    "import matplotlib.pyplot as plt\n",
    "from scipy.stats import skew, kurtosis\n",
    "\n",
    "ratings_df = pd.read_csv('ratings.csv')\n",
    "fight_club_ratings = ratings_df[ratings_df['movieId'] == 2959]  # Assuming 2959 is the movieId for \"Fight Club (1999)\"\n",
    "\n",
    "# Plot a histogram\n",
    "plt.hist(fight_club_ratings['rating'], bins=10, edgecolor='black')\n",
    "plt.title('User Ratings for Fight Club (1999)')\n",
    "plt.xlabel('Rating')\n",
    "plt.ylabel('Frequency')\n",
    "plt.show()\n",
    "\n",
    "# Calculate skewness and kurtosis\n",
    "skewness = skew(fight_club_ratings['rating'])\n",
    "kurt = kurtosis(fight_club_ratings['rating'])\n",
    "\n",
    "if abs(skewness) < 0.5 and abs(kurt) < 0.5:\n",
    "    print(\"The distribution appears to be approximately normal.\")\n",
    "elif skewness < 0 and kurt < 0:\n",
    "    print(\"The distribution appears to be left-skewed.\")\n",
    "elif skewness > 0 and kurt > 0:\n",
    "    print(\"The distribution appears to be right-skewed.\")\n",
    "elif abs(skewness) < 0.5 and kurt > -0.5 and kurt < 0.5:\n",
    "    print(\"The distribution appears to be approximately uniform.\")\n",
    "else:\n",
    "    print(\"The distribution does not fit the characteristics of normal, left-skewed, right-skewed, or uniform.\")\n"
   ]
  },
  {
   "cell_type": "code",
   "execution_count": 5,
   "id": "21d564cb-efb5-4097-8782-2c3219341b34",
   "metadata": {},
   "outputs": [
    {
     "name": "stdout",
     "output_type": "stream",
     "text": [
      "The most popular movie based on average user ratings is:\n",
      "Shawshank Redemption, The (1994)\n"
     ]
    }
   ],
   "source": [
    "# Now that you have a good enough understanding of the given data, apply the \"Mandatory Operation\" given below before solving any of the following questions.\n",
    "# Mandatory Operations:\n",
    "# 1. Group the user ratings based on movieId and apply aggregation operations like count and mean on ratings. \n",
    "# 2. Apply inner join on dataframe created from movies.csv and the grouped df from step 1.\n",
    "# 3. Filter only those movies which have more than 50 user ratings (i.e. > 50).\n",
    "\n",
    "# Above steps will make sure that your data contains only those movies which has recieved more than 50 user ratings.\n",
    "# 9. Which movie is the most popular based on  average user ratings?\n",
    "\n",
    "import pandas as pd\n",
    "\n",
    "# Load the data into pandas DataFrames\n",
    "ratings_df = pd.read_csv('ratings.csv')\n",
    "movies_df = pd.read_csv('movies.csv')\n",
    "\n",
    "# Group ratings by movieId and calculate count and mean\n",
    "grouped_ratings = ratings_df.groupby('movieId')['rating'].agg(['count', 'mean']).reset_index()\n",
    "merged_df = pd.merge(movies_df, grouped_ratings, on='movieId', how='inner')\n",
    "\n",
    "# Filter for movies with more than 50 ratings\n",
    "filtered_df = merged_df[merged_df['count'] > 50]\n",
    "most_popular_movie = filtered_df['mean'].idxmax()\n",
    "\n",
    "# Display the result\n",
    "print(\"The most popular movie based on average user ratings is:\")\n",
    "print(filtered_df.loc[most_popular_movie, 'title'])\n"
   ]
  },
  {
   "cell_type": "code",
   "execution_count": 7,
   "id": "9795dbfc-02bc-47c3-85b0-7d2b3bdd4baa",
   "metadata": {},
   "outputs": [
    {
     "name": "stdout",
     "output_type": "stream",
     "text": [
      "The top 5 popular movies based on the number of user ratings are:\n",
      "                                 title  count\n",
      "314                Forrest Gump (1994)    329\n",
      "277   Shawshank Redemption, The (1994)    317\n",
      "257                Pulp Fiction (1994)    307\n",
      "510   Silence of the Lambs, The (1991)    279\n",
      "1938                Matrix, The (1999)    278\n"
     ]
    }
   ],
   "source": [
    "# 10. Select all the correct options which comes under top 5 popular movies based on number of user ratings\n",
    "\n",
    "# 10. Select all the correct options which comes under top 5 popular movies based on the number of user ratings\n",
    "\n",
    "# Find the top 5 popular movies based on the number of user ratings\n",
    "top_5_popular_movies = filtered_df.nlargest(5, 'count')\n",
    "\n",
    "# Display the result\n",
    "print(\"The top 5 popular movies based on the number of user ratings are:\")\n",
    "print(top_5_popular_movies[['title', 'count']])\n"
   ]
  },
  {
   "cell_type": "code",
   "execution_count": 9,
   "id": "da2cddcd-594a-4978-8fe4-68c8662e68f9",
   "metadata": {},
   "outputs": [
    {
     "name": "stdout",
     "output_type": "stream",
     "text": [
      "The third most popular Sci-Fi movie based on the number of user ratings is:\n",
      "title    Jurassic Park (1993)\n",
      "count                     238\n",
      "Name: 418, dtype: object\n"
     ]
    }
   ],
   "source": [
    "# 11. Which Sci-Fi movie is \"third most popular\" based on the number of user ratings?\n",
    "\n",
    "# Filter Sci-Fi movies\n",
    "sci_fi_movies = filtered_df[filtered_df['genres'].str.contains('Sci-Fi')]\n",
    "\n",
    "# Find the third most popular Sci-Fi movie based on the number of user ratings\n",
    "third_most_popular_sci_fi_movie = sci_fi_movies.nlargest(3, 'count').iloc[-1]\n",
    "\n",
    "# Display the result\n",
    "print(\"The third most popular Sci-Fi movie based on the number of user ratings is:\")\n",
    "print(third_most_popular_sci_fi_movie[['title', 'count']])\n"
   ]
  },
  {
   "cell_type": "code",
   "execution_count": 10,
   "id": "0c7286f7-c4e2-4793-889f-6efeaaa9f33e",
   "metadata": {},
   "outputs": [
    {
     "name": "stdout",
     "output_type": "stream",
     "text": [
      "The movieId with the highest IMDb rating is: 1.0\n"
     ]
    }
   ],
   "source": [
    "# You already have a subset of data containing only those movies which has recieved more than 50 user ratings.\n",
    "# Using \"links.csv\", scrape the IMDB reviews of each movie with more than 50 user ratings. \"README.md\" file contains the required details.\n",
    "# If you are unable to write the webscraping script yourself, you can request the same by commenting LinkedIn Post.\n",
    "\n",
    "# 12. Mention the movieId of the movie which has the highest IMDB rating.\n",
    "\n",
    "import pandas as pd\n",
    "\n",
    "# Step 1: Read the CSV file\n",
    "file_path = 'links.csv'\n",
    "links_df = pd.read_csv(file_path)\n",
    "\n",
    "imdb_ratings_df = pd.read_csv('ratings.csv')  # Replace 'imdb_ratings.csv' with your IMDb ratings dataset\n",
    "\n",
    "# Merge the two dataframes on 'movieId'\n",
    "merged_df = pd.merge(links_df, imdb_ratings_df, on='movieId', how='inner')\n",
    "\n",
    "# Step 3: Find the movieId with the highest IMDb rating\n",
    "max_imdb_movie_id = merged_df.loc[merged_df['rating'].idxmax()]['movieId']\n",
    "\n",
    "print(f\"The movieId with the highest IMDb rating is: {max_imdb_movie_id}\")\n"
   ]
  },
  {
   "cell_type": "code",
   "execution_count": 11,
   "id": "d24f8c38-2f7a-4a52-96a0-fedd9c1b7fb5",
   "metadata": {},
   "outputs": [
    {
     "name": "stdout",
     "output_type": "stream",
     "text": [
      "The movieId of the highest-rated Sci-Fi movie is: 24\n"
     ]
    }
   ],
   "source": [
    "# 13. Mention the movieId of the \"Sci-Fi\" movie which has the highest IMDB rating.\n",
    "\n",
    "import pandas as pd\n",
    "\n",
    "# Step 1: Read the CSV files\n",
    "links_file_path = 'links.csv'\n",
    "ratings_file_path = 'ratings.csv'\n",
    "movies_file_path = 'movies.csv'  # Replace with the actual path\n",
    "\n",
    "links_df = pd.read_csv(links_file_path)\n",
    "ratings_df = pd.read_csv(ratings_file_path)\n",
    "movies_df = pd.read_csv(movies_file_path)\n",
    "\n",
    "# Step 2: Merge the dataframes on 'movieId'\n",
    "merged_df = pd.merge(pd.merge(links_df, ratings_df, on='movieId', how='inner'), movies_df, on='movieId', how='inner')\n",
    "\n",
    "# Step 3: Filter for Sci-Fi movies\n",
    "sci_fi_df = merged_df[merged_df['genres'].str.contains('Sci-Fi', case=False, na=False)]\n",
    "\n",
    "# Step 4: Find the movieId with the highest IMDb rating in the Sci-Fi genre\n",
    "if not sci_fi_df.empty:\n",
    "    max_imdb_sci_fi_movie_id = sci_fi_df.loc[sci_fi_df['rating'].idxmax()]['movieId']\n",
    "    print(f\"The movieId of the highest-rated Sci-Fi movie is: {max_imdb_sci_fi_movie_id}\")\n",
    "else:\n",
    "    print(\"No Sci-Fi movies found in the dataset.\")\n"
   ]
  }
 ],
 "metadata": {
  "kernelspec": {
   "display_name": "Python 3 (ipykernel)",
   "language": "python",
   "name": "python3"
  },
  "language_info": {
   "codemirror_mode": {
    "name": "ipython",
    "version": 3
   },
   "file_extension": ".py",
   "mimetype": "text/x-python",
   "name": "python",
   "nbconvert_exporter": "python",
   "pygments_lexer": "ipython3",
   "version": "3.11.7"
  }
 },
 "nbformat": 4,
 "nbformat_minor": 5
}
